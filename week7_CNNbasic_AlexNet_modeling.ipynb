{
  "cells": [
    {
      "cell_type": "markdown",
      "metadata": {
        "id": "view-in-github",
        "colab_type": "text"
      },
      "source": [
        "<a href=\"https://colab.research.google.com/github/ckj18/ToBigs_workspace/blob/main/week7_CNNbasic_AlexNet_modeling.ipynb\" target=\"_parent\"><img src=\"https://colab.research.google.com/assets/colab-badge.svg\" alt=\"Open In Colab\"/></a>"
      ]
    },
    {
      "cell_type": "markdown",
      "metadata": {
        "id": "N1DbkY70-hcB"
      },
      "source": [
        "# CNNbasic Assignment#2\n",
        "\n",
        "# AlexNet 구현\n",
        "\n",
        "모델 구현 후 summary로 전체 모델 구조 출력과 주석으로 간단한 설명을 달아주시면 됩니다.\n",
        "\n",
        "프레임워크는 자유이고, 기본 tensforflow와 pytorch tutorial 사이트를 아래에 첨부해 드립니다.\n",
        "\n",
        "이 외 각 프레임워크 별 summary 등 추가적인 사용 방법은 구글링으로 찾아주세요!-!\n",
        "\n",
        "- Tensorflow Tutorial: https://www.tensorflow.org/tutorials?hl=ko\n",
        "\n",
        "- Pytorch Tutorial: https://tutorials.pytorch.kr/"
      ]
    },
    {
      "cell_type": "markdown",
      "metadata": {
        "id": "0yGHLrFU8JkW"
      },
      "source": [
        "## Tensorflow(keras)"
      ]
    },
    {
      "cell_type": "code",
      "execution_count": 4,
      "metadata": {
        "colab": {
          "base_uri": "https://localhost:8080/"
        },
        "id": "68kj2zUP80f0",
        "outputId": "ba8b5432-355b-40f4-d2aa-f1577aaa306d"
      },
      "outputs": [
        {
          "output_type": "stream",
          "name": "stdout",
          "text": [
            "Model: \"sequential_2\"\n",
            "_________________________________________________________________\n",
            " Layer (type)                Output Shape              Param #   \n",
            "=================================================================\n",
            " conv2d_10 (Conv2D)          (None, 55, 55, 96)        34944     \n",
            "                                                                 \n",
            " max_pooling2d_6 (MaxPooling  (None, 27, 27, 96)       0         \n",
            " 2D)                                                             \n",
            "                                                                 \n",
            " conv2d_11 (Conv2D)          (None, 27, 27, 256)       614656    \n",
            "                                                                 \n",
            " max_pooling2d_7 (MaxPooling  (None, 13, 13, 256)      0         \n",
            " 2D)                                                             \n",
            "                                                                 \n",
            " conv2d_12 (Conv2D)          (None, 13, 13, 384)       885120    \n",
            "                                                                 \n",
            " conv2d_13 (Conv2D)          (None, 13, 13, 384)       1327488   \n",
            "                                                                 \n",
            " conv2d_14 (Conv2D)          (None, 13, 13, 256)       884992    \n",
            "                                                                 \n",
            " max_pooling2d_8 (MaxPooling  (None, 6, 6, 256)        0         \n",
            " 2D)                                                             \n",
            "                                                                 \n",
            " flatten_2 (Flatten)         (None, 9216)              0         \n",
            "                                                                 \n",
            " dense_6 (Dense)             (None, 4096)              37752832  \n",
            "                                                                 \n",
            " dropout_2 (Dropout)         (None, 4096)              0         \n",
            "                                                                 \n",
            " dense_7 (Dense)             (None, 4096)              16781312  \n",
            "                                                                 \n",
            " dropout_3 (Dropout)         (None, 4096)              0         \n",
            "                                                                 \n",
            " dense_8 (Dense)             (None, 1000)              4097000   \n",
            "                                                                 \n",
            "=================================================================\n",
            "Total params: 62,378,344\n",
            "Trainable params: 62,378,344\n",
            "Non-trainable params: 0\n",
            "_________________________________________________________________\n"
          ]
        }
      ],
      "source": [
        "from tensorflow.keras.layers import Conv2D, MaxPooling2D, Flatten, Dense, BatchNormalization, Dropout\n",
        "from tensorflow.keras.models import Sequential\n",
        "\n",
        "\n",
        "n_classes = 1000 # class 개수\n",
        "\n",
        "model=Sequential()\n",
        "\n",
        "############## Add Layer ##############\n",
        "model.add(Conv2D(96, (11,11), strides=4, padding='valid', input_shape=(227, 227, 3)))\n",
        "model.add(MaxPooling2D(pool_size=(3,3), strides=2))\n",
        "\n",
        "model.add(Conv2D(256, (5,5), strides=1, activation='relu', padding='same'))\n",
        "model.add(MaxPooling2D(pool_size=(3,3), strides=2))\n",
        "\n",
        "model.add(Conv2D(384, (3,3), strides=1, activation='relu', padding='same'))\n",
        "model.add(Conv2D(384, (3,3), strides=1, activation='relu', padding='same'))\n",
        "model.add(Conv2D(256, (3,3), strides=1, activation='relu', padding='same'))\n",
        "\n",
        "model.add(MaxPooling2D(pool_size=(3,3), strides=2))\n",
        "\n",
        "model.add(Flatten())\n",
        "model.add(Dense(4096, activation='relu'))\n",
        "model.add(Dropout(0.5))\n",
        "model.add(Dense(4096, activation='relu'))\n",
        "model.add(Dropout(0.5))\n",
        "model.add(Dense(n_classes, activation='softmax'))\n",
        "#######################################\n",
        "\n",
        "# keras summary\n",
        "model.summary() # summary code 추가"
      ]
    },
    {
      "cell_type": "markdown",
      "metadata": {
        "id": "urleB2cT-c0i"
      },
      "source": [
        "## Pytorch"
      ]
    },
    {
      "cell_type": "code",
      "execution_count": 6,
      "metadata": {
        "colab": {
          "base_uri": "https://localhost:8080/"
        },
        "id": "rPXCVbu799Rq",
        "outputId": "2fc8240a-02e8-4769-adc3-d164b3250551",
        "scrolled": false
      },
      "outputs": [
        {
          "output_type": "stream",
          "name": "stdout",
          "text": [
            "----------------------------------------------------------------\n",
            "        Layer (type)               Output Shape         Param #\n",
            "================================================================\n",
            "            Conv2d-1           [-1, 96, 55, 55]          34,944\n",
            "         MaxPool2d-2           [-1, 96, 27, 27]               0\n",
            "            Conv2d-3          [-1, 256, 27, 27]         614,656\n",
            "         MaxPool2d-4          [-1, 256, 13, 13]               0\n",
            "            Conv2d-5          [-1, 384, 13, 13]         885,120\n",
            "            Conv2d-6          [-1, 384, 13, 13]       1,327,488\n",
            "            Conv2d-7          [-1, 256, 13, 13]         884,992\n",
            "         MaxPool2d-8            [-1, 256, 6, 6]               0\n",
            "            Linear-9                 [-1, 4096]      37,752,832\n",
            "           Linear-10                 [-1, 4096]      16,781,312\n",
            "           Linear-11                 [-1, 1000]       4,097,000\n",
            "================================================================\n",
            "Total params: 62,378,344\n",
            "Trainable params: 62,378,344\n",
            "Non-trainable params: 0\n",
            "----------------------------------------------------------------\n",
            "Input size (MB): 0.59\n",
            "Forward/backward pass size (MB): 5.96\n",
            "Params size (MB): 237.95\n",
            "Estimated Total Size (MB): 244.51\n",
            "----------------------------------------------------------------\n"
          ]
        }
      ],
      "source": [
        "import torch\n",
        "import torchvision\n",
        "import torch.nn as nn\n",
        "import torch.nn.functional as F\n",
        "from torchsummary import summary\n",
        "\n",
        "\n",
        "class AlexNet(nn.Module):\n",
        "\n",
        "    def __init__(self, n_classes):\n",
        "        super(AlexNet, self).__init__()\n",
        "        \n",
        "        ############## Add Layer ##############\n",
        "        self.n_classes = n_classes\n",
        "        self.Conv1 = nn.Conv2d(in_channels=3, out_channels=96, \n",
        "                               kernel_size=(11,11), stride=4, padding=0)\n",
        "        self.Conv2 = nn.Conv2d(in_channels=96, out_channels=256, \n",
        "                               kernel_size=(5,5), stride=1, padding=2)\n",
        "        self.Conv3 = nn.Conv2d(in_channels=256, out_channels=384, \n",
        "                               kernel_size=(3,3), stride=1, padding=1)\n",
        "        self.Conv4 = nn.Conv2d(in_channels=384, out_channels=384, \n",
        "                               kernel_size=(3,3), stride=1, padding=1)\n",
        "        self.Conv5 = nn.Conv2d(in_channels=384, out_channels=256, \n",
        "                               kernel_size=(3,3), stride=1, padding=1)\n",
        "        self.Pool = nn.MaxPool2d(kernel_size=3, stride=2)\n",
        "\n",
        "            \n",
        "        self.fc1 = nn.Linear(in_features=256*6*6, out_features=4096)\n",
        "        self.fc2 = nn.Linear(in_features=4096, out_features=4096)\n",
        "        self.fc3 = nn.Linear(in_features=4096, out_features=self.n_classes)\n",
        "        #######################################\n",
        "\n",
        "    def forward(self, x):\n",
        "        \n",
        "        ############## Add Layer ##############\n",
        "        x = self.Pool(self.Conv1(x))\n",
        "        x = self.Pool(F.relu(self.Conv2(x)))\n",
        "        x = F.relu(self.Conv3(x))\n",
        "        x = F.relu(self.Conv4(x))\n",
        "        x = self.Pool(F.relu(self.Conv5(x)))\n",
        "        \n",
        "        x = x.view(-1, 256*6*6)\n",
        "        \n",
        "        nn.Dropout(0.5)\n",
        "        x = F.relu(self.fc1(x))\n",
        "\n",
        "        nn.Dropout(0.5)\n",
        "        x = F.relu(self.fc2(x))\n",
        "        x = self.fc3(x)\n",
        "        #######################################\n",
        "        \n",
        "        return x\n",
        "\n",
        "# pytorch summary\n",
        "model = AlexNet(1000)\n",
        "summary(model, input_size=(3, 227, 227))# summary code 추가"
      ]
    }
  ],
  "metadata": {
    "colab": {
      "provenance": [],
      "include_colab_link": true
    },
    "kernelspec": {
      "display_name": "Python 3 (ipykernel)",
      "language": "python",
      "name": "python3"
    },
    "language_info": {
      "codemirror_mode": {
        "name": "ipython",
        "version": 3
      },
      "file_extension": ".py",
      "mimetype": "text/x-python",
      "name": "python",
      "nbconvert_exporter": "python",
      "pygments_lexer": "ipython3",
      "version": "3.9.13"
    }
  },
  "nbformat": 4,
  "nbformat_minor": 0
}