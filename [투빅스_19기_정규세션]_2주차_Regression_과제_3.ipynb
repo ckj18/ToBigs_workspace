{
  "cells": [
    {
      "cell_type": "markdown",
      "metadata": {
        "id": "view-in-github",
        "colab_type": "text"
      },
      "source": [
        "<a href=\"https://colab.research.google.com/github/ckj18/ToBigs_workspace/blob/main/%5B%ED%88%AC%EB%B9%85%EC%8A%A4_19%EA%B8%B0_%EC%A0%95%EA%B7%9C%EC%84%B8%EC%85%98%5D_2%EC%A3%BC%EC%B0%A8_Regression_%EA%B3%BC%EC%A0%9C_3.ipynb\" target=\"_parent\"><img src=\"https://colab.research.google.com/assets/colab-badge.svg\" alt=\"Open In Colab\"/></a>"
      ]
    },
    {
      "cell_type": "markdown",
      "metadata": {
        "id": "fu39oBW0RVn5"
      },
      "source": [
        "# [과제 3] 로지스틱 회귀분석\n",
        "### - sklearn 패키지를 사용해 로지스틱 회귀분석을 진행해주세요.\n",
        "### - 성능지표를 계산하고 이에 대해 해석해주세요.\n",
        "### - 성능 개선을 시도해주세요. (어떠한 성능지표를 기준으로 개선을 시도했는지, 그 이유도 함께 적어주세요.)\n",
        "### - 주석으로 설명 및 근거 자세하게 달아주시면 감사하겠습니다. :)"
      ]
    },
    {
      "cell_type": "markdown",
      "metadata": {
        "id": "8rN2SWezRVn_"
      },
      "source": [
        "## Data "
      ]
    },
    {
      "cell_type": "markdown",
      "metadata": {
        "id": "Y7SYKNvQRVn_"
      },
      "source": [
        "출처 : https://www.kaggle.com/mlg-ulb/creditcardfraud\n",
        "\n",
        "\n",
        "* V1 ~ V28 : 비식별화 된 개인정보 \n",
        "* **Class** : Target 변수  \n",
        "  - 1 : fraudulent transactions (사기)\n",
        "  - 0 : otherwise "
      ]
    },
    {
      "cell_type": "code",
      "execution_count": null,
      "metadata": {
        "id": "Uvjw2fTCRVoA"
      },
      "outputs": [],
      "source": [
        "import pandas as pd\n",
        "import numpy as np\n",
        "import seaborn as sns\n",
        "import matplotlib.pyplot as plt\n",
        "import warnings\n",
        "warnings.filterwarnings(action='ignore')"
      ]
    },
    {
      "cell_type": "code",
      "execution_count": null,
      "metadata": {
        "id": "znQit70ZRVoA"
      },
      "outputs": [],
      "source": [
        "data = pd.read_csv(\"assignment3_creditcard.csv\")"
      ]
    },
    {
      "cell_type": "code",
      "execution_count": null,
      "metadata": {
        "colab": {
          "base_uri": "https://localhost:8080/",
          "height": 220
        },
        "id": "v98OeXW5RVoB",
        "outputId": "42afeddc-07e6-4224-95ee-08b455f72475"
      },
      "outputs": [
        {
          "data": {
            "text/html": [
              "<div>\n",
              "<style scoped>\n",
              "    .dataframe tbody tr th:only-of-type {\n",
              "        vertical-align: middle;\n",
              "    }\n",
              "\n",
              "    .dataframe tbody tr th {\n",
              "        vertical-align: top;\n",
              "    }\n",
              "\n",
              "    .dataframe thead th {\n",
              "        text-align: right;\n",
              "    }\n",
              "</style>\n",
              "<table border=\"1\" class=\"dataframe\">\n",
              "  <thead>\n",
              "    <tr style=\"text-align: right;\">\n",
              "      <th></th>\n",
              "      <th>V1</th>\n",
              "      <th>V2</th>\n",
              "      <th>V3</th>\n",
              "      <th>V4</th>\n",
              "      <th>V5</th>\n",
              "      <th>V6</th>\n",
              "      <th>V7</th>\n",
              "      <th>V8</th>\n",
              "      <th>V9</th>\n",
              "      <th>V10</th>\n",
              "      <th>...</th>\n",
              "      <th>V20</th>\n",
              "      <th>V21</th>\n",
              "      <th>V22</th>\n",
              "      <th>V23</th>\n",
              "      <th>V24</th>\n",
              "      <th>V25</th>\n",
              "      <th>V26</th>\n",
              "      <th>V27</th>\n",
              "      <th>V28</th>\n",
              "      <th>Class</th>\n",
              "    </tr>\n",
              "  </thead>\n",
              "  <tbody>\n",
              "    <tr>\n",
              "      <th>0</th>\n",
              "      <td>-1.848212</td>\n",
              "      <td>2.384900</td>\n",
              "      <td>0.379573</td>\n",
              "      <td>1.048381</td>\n",
              "      <td>-0.845070</td>\n",
              "      <td>2.537837</td>\n",
              "      <td>-4.542983</td>\n",
              "      <td>-10.201458</td>\n",
              "      <td>-1.504967</td>\n",
              "      <td>-2.234167</td>\n",
              "      <td>...</td>\n",
              "      <td>2.585817</td>\n",
              "      <td>-5.291690</td>\n",
              "      <td>0.859364</td>\n",
              "      <td>0.423231</td>\n",
              "      <td>-0.506985</td>\n",
              "      <td>1.020052</td>\n",
              "      <td>-0.627751</td>\n",
              "      <td>-0.017753</td>\n",
              "      <td>0.280982</td>\n",
              "      <td>0</td>\n",
              "    </tr>\n",
              "    <tr>\n",
              "      <th>1</th>\n",
              "      <td>2.071805</td>\n",
              "      <td>-0.477943</td>\n",
              "      <td>-1.444444</td>\n",
              "      <td>-0.548657</td>\n",
              "      <td>0.010036</td>\n",
              "      <td>-0.582242</td>\n",
              "      <td>-0.042878</td>\n",
              "      <td>-0.247160</td>\n",
              "      <td>1.171923</td>\n",
              "      <td>-0.342382</td>\n",
              "      <td>...</td>\n",
              "      <td>-0.077306</td>\n",
              "      <td>0.042858</td>\n",
              "      <td>0.390125</td>\n",
              "      <td>0.041569</td>\n",
              "      <td>0.598427</td>\n",
              "      <td>0.098803</td>\n",
              "      <td>0.979686</td>\n",
              "      <td>-0.093244</td>\n",
              "      <td>-0.065615</td>\n",
              "      <td>0</td>\n",
              "    </tr>\n",
              "    <tr>\n",
              "      <th>2</th>\n",
              "      <td>-2.985294</td>\n",
              "      <td>-2.747472</td>\n",
              "      <td>1.194068</td>\n",
              "      <td>-0.003036</td>\n",
              "      <td>-1.151041</td>\n",
              "      <td>-0.263559</td>\n",
              "      <td>0.553500</td>\n",
              "      <td>0.635600</td>\n",
              "      <td>0.438545</td>\n",
              "      <td>-1.806488</td>\n",
              "      <td>...</td>\n",
              "      <td>1.345776</td>\n",
              "      <td>0.373760</td>\n",
              "      <td>-0.385777</td>\n",
              "      <td>1.197596</td>\n",
              "      <td>0.407229</td>\n",
              "      <td>0.008013</td>\n",
              "      <td>0.762362</td>\n",
              "      <td>-0.299024</td>\n",
              "      <td>-0.303929</td>\n",
              "      <td>0</td>\n",
              "    </tr>\n",
              "    <tr>\n",
              "      <th>3</th>\n",
              "      <td>-1.479452</td>\n",
              "      <td>1.542874</td>\n",
              "      <td>0.290895</td>\n",
              "      <td>0.838142</td>\n",
              "      <td>-0.529290</td>\n",
              "      <td>-0.717661</td>\n",
              "      <td>0.484516</td>\n",
              "      <td>0.545092</td>\n",
              "      <td>-0.780767</td>\n",
              "      <td>0.324804</td>\n",
              "      <td>...</td>\n",
              "      <td>0.038397</td>\n",
              "      <td>0.116771</td>\n",
              "      <td>0.405560</td>\n",
              "      <td>-0.116453</td>\n",
              "      <td>0.541275</td>\n",
              "      <td>-0.216665</td>\n",
              "      <td>-0.415578</td>\n",
              "      <td>0.027126</td>\n",
              "      <td>-0.150347</td>\n",
              "      <td>0</td>\n",
              "    </tr>\n",
              "    <tr>\n",
              "      <th>4</th>\n",
              "      <td>-0.281976</td>\n",
              "      <td>-0.309699</td>\n",
              "      <td>-2.162299</td>\n",
              "      <td>-0.851514</td>\n",
              "      <td>0.106167</td>\n",
              "      <td>-1.483888</td>\n",
              "      <td>1.930994</td>\n",
              "      <td>-0.843049</td>\n",
              "      <td>-1.249272</td>\n",
              "      <td>1.079608</td>\n",
              "      <td>...</td>\n",
              "      <td>-0.875516</td>\n",
              "      <td>-0.004199</td>\n",
              "      <td>1.015108</td>\n",
              "      <td>-0.026748</td>\n",
              "      <td>0.077115</td>\n",
              "      <td>-1.468822</td>\n",
              "      <td>0.751700</td>\n",
              "      <td>0.496732</td>\n",
              "      <td>0.331001</td>\n",
              "      <td>0</td>\n",
              "    </tr>\n",
              "  </tbody>\n",
              "</table>\n",
              "<p>5 rows × 29 columns</p>\n",
              "</div>"
            ],
            "text/plain": [
              "         V1        V2        V3        V4        V5        V6        V7  \\\n",
              "0 -1.848212  2.384900  0.379573  1.048381 -0.845070  2.537837 -4.542983   \n",
              "1  2.071805 -0.477943 -1.444444 -0.548657  0.010036 -0.582242 -0.042878   \n",
              "2 -2.985294 -2.747472  1.194068 -0.003036 -1.151041 -0.263559  0.553500   \n",
              "3 -1.479452  1.542874  0.290895  0.838142 -0.529290 -0.717661  0.484516   \n",
              "4 -0.281976 -0.309699 -2.162299 -0.851514  0.106167 -1.483888  1.930994   \n",
              "\n",
              "          V8        V9       V10  ...       V20       V21       V22       V23  \\\n",
              "0 -10.201458 -1.504967 -2.234167  ...  2.585817 -5.291690  0.859364  0.423231   \n",
              "1  -0.247160  1.171923 -0.342382  ... -0.077306  0.042858  0.390125  0.041569   \n",
              "2   0.635600  0.438545 -1.806488  ...  1.345776  0.373760 -0.385777  1.197596   \n",
              "3   0.545092 -0.780767  0.324804  ...  0.038397  0.116771  0.405560 -0.116453   \n",
              "4  -0.843049 -1.249272  1.079608  ... -0.875516 -0.004199  1.015108 -0.026748   \n",
              "\n",
              "        V24       V25       V26       V27       V28  Class  \n",
              "0 -0.506985  1.020052 -0.627751 -0.017753  0.280982      0  \n",
              "1  0.598427  0.098803  0.979686 -0.093244 -0.065615      0  \n",
              "2  0.407229  0.008013  0.762362 -0.299024 -0.303929      0  \n",
              "3  0.541275 -0.216665 -0.415578  0.027126 -0.150347      0  \n",
              "4  0.077115 -1.468822  0.751700  0.496732  0.331001      0  \n",
              "\n",
              "[5 rows x 29 columns]"
            ]
          },
          "execution_count": 3,
          "metadata": {},
          "output_type": "execute_result"
        }
      ],
      "source": [
        "data.head()"
      ]
    },
    {
      "cell_type": "code",
      "execution_count": null,
      "metadata": {
        "id": "55ybsP3WXQj0"
      },
      "outputs": [],
      "source": [
        "from sklearn import metrics\n",
        "from sklearn.model_selection import train_test_split\n",
        "from sklearn.linear_model import LogisticRegression"
      ]
    },
    {
      "cell_type": "code",
      "execution_count": null,
      "metadata": {
        "id": "QsoTNDu8XQj1"
      },
      "outputs": [],
      "source": [
        "# 회귀분석을 위해 독립변수X와 종속변수Y를 분리\n",
        "X = data.drop(['Class'], axis=1)\n",
        "y = data[['Class']]"
      ]
    },
    {
      "cell_type": "code",
      "execution_count": null,
      "metadata": {
        "id": "tNn6czRnXQj1",
        "outputId": "cddcd23f-c22b-4979-b404-4de89abdda75"
      },
      "outputs": [
        {
          "name": "stdout",
          "output_type": "stream",
          "text": [
            "Optimization terminated successfully.\n",
            "         Current function value: 0.010618\n",
            "         Iterations 12\n",
            "                        Results: Logit\n",
            "===============================================================\n",
            "Model:              Logit            Pseudo R-squared: 0.785   \n",
            "Dependent Variable: Class            AIC:              667.0108\n",
            "Date:               2023-01-31 14:34 BIC:              906.6634\n",
            "No. Observations:   28678            Log-Likelihood:   -304.51 \n",
            "Df Model:           28               LL-Null:          -1415.5 \n",
            "Df Residuals:       28649            LLR p-value:      0.0000  \n",
            "Converged:          1.0000           Scale:            1.0000  \n",
            "No. Iterations:     12.0000                                    \n",
            "----------------------------------------------------------------\n",
            "            Coef.   Std.Err.     z      P>|z|    [0.025   0.975]\n",
            "----------------------------------------------------------------\n",
            "const      -7.6615    0.2828  -27.0926  0.0000  -8.2158  -7.1073\n",
            "V1          0.0717    0.0732    0.9791  0.3275  -0.0718   0.2151\n",
            "V2         -0.0685    0.0959   -0.7148  0.4747  -0.2565   0.1194\n",
            "V3         -0.0056    0.0834   -0.0672  0.9464  -0.1691   0.1578\n",
            "V4          0.8485    0.1341    6.3252  0.0000   0.5856   1.1114\n",
            "V5          0.0206    0.1235    0.1670  0.8674  -0.2214   0.2626\n",
            "V6         -0.2193    0.1595   -1.3752  0.1691  -0.5320   0.0933\n",
            "V7         -0.0134    0.1052   -0.1276  0.8985  -0.2195   0.1927\n",
            "V8         -0.2203    0.0695   -3.1684  0.0015  -0.3566  -0.0840\n",
            "V9         -0.0256    0.2052   -0.1246  0.9008  -0.4279   0.3767\n",
            "V10        -0.8065    0.2040   -3.9544  0.0001  -1.2063  -0.4068\n",
            "V11         0.0744    0.1355    0.5491  0.5829  -0.1912   0.3400\n",
            "V12        -0.3091    0.1422   -2.1740  0.0297  -0.5877  -0.0304\n",
            "V13        -0.2052    0.1353   -1.5170  0.1293  -0.4703   0.0599\n",
            "V14        -0.5258    0.1086   -4.8440  0.0000  -0.7386  -0.3131\n",
            "V15        -0.2173    0.1505   -1.4434  0.1489  -0.5123   0.0777\n",
            "V16        -0.2637    0.2390   -1.1034  0.2699  -0.7322   0.2047\n",
            "V17         0.0833    0.1219    0.6835  0.4943  -0.1556   0.3221\n",
            "V18        -0.2166    0.2345   -0.9240  0.3555  -0.6762   0.2429\n",
            "V19        -0.0460    0.1758   -0.2614  0.7938  -0.3906   0.2987\n",
            "V20        -0.3078    0.1323   -2.3265  0.0200  -0.5671  -0.0485\n",
            "V21         0.4496    0.1191    3.7766  0.0002   0.2163   0.6829\n",
            "V22         0.6794    0.2256    3.0111  0.0026   0.2372   1.1217\n",
            "V23        -0.1219    0.1023   -1.1915  0.2335  -0.3225   0.0786\n",
            "V24         0.1406    0.2936    0.4790  0.6319  -0.4347   0.7160\n",
            "V25        -0.1388    0.2424   -0.5727  0.5669  -0.6139   0.3363\n",
            "V26        -0.4523    0.3451   -1.3105  0.1900  -1.1287   0.2241\n",
            "V27        -0.7915    0.2879   -2.7492  0.0060  -1.3558  -0.2272\n",
            "V28        -0.1315    0.1844   -0.7128  0.4760  -0.4930   0.2300\n",
            "===============================================================\n",
            "\n"
          ]
        }
      ],
      "source": [
        "# Logit()을 이용해 회귀분석\n",
        "# 수정 전\n",
        "# R-squared: 0.785 \n",
        "# AIC: 667, BIC: 906 (두 값 모두 낮을수록 모델의 적합도가 좋음)\n",
        "\n",
        "import statsmodels.api as sm\n",
        "\n",
        "X = sm.add_constant(X)\n",
        "model = sm.Logit(y, X)\n",
        "results = model.fit()\n",
        "\n",
        "print(results.summary2())"
      ]
    },
    {
      "cell_type": "code",
      "execution_count": null,
      "metadata": {
        "id": "uDZIX5ILXQj2",
        "outputId": "4cf6c81d-d7f8-46b9-8d6f-141dd5c1cf9c"
      },
      "outputs": [
        {
          "name": "stdout",
          "output_type": "stream",
          "text": [
            "Optimization terminated successfully.\n",
            "         Current function value: 0.011120\n",
            "         Iterations 11\n",
            "                        Results: Logit\n",
            "===============================================================\n",
            "Model:              Logit            Pseudo R-squared: 0.775   \n",
            "Dependent Variable: Class            AIC:              655.7921\n",
            "Date:               2023-01-31 14:36 BIC:              730.1671\n",
            "No. Observations:   28678            Log-Likelihood:   -318.90 \n",
            "Df Model:           8                LL-Null:          -1415.5 \n",
            "Df Residuals:       28669            LLR p-value:      0.0000  \n",
            "Converged:          1.0000           Scale:            1.0000  \n",
            "No. Iterations:     11.0000                                    \n",
            "----------------------------------------------------------------\n",
            "            Coef.   Std.Err.     z      P>|z|    [0.025   0.975]\n",
            "----------------------------------------------------------------\n",
            "const      -7.3581    0.2185  -33.6725  0.0000  -7.7864  -6.9298\n",
            "V4          0.6194    0.0724    8.5539  0.0000   0.4775   0.7613\n",
            "V8         -0.1793    0.0428   -4.1918  0.0000  -0.2631  -0.0954\n",
            "V10        -0.5432    0.0937   -5.7987  0.0000  -0.7268  -0.3596\n",
            "V12        -0.4751    0.0995   -4.7733  0.0000  -0.6701  -0.2800\n",
            "V14        -0.6618    0.0754   -8.7788  0.0000  -0.8096  -0.5140\n",
            "V21         0.4090    0.0912    4.4855  0.0000   0.2303   0.5877\n",
            "V22         0.7225    0.1859    3.8864  0.0001   0.3581   1.0868\n",
            "V27        -0.4159    0.2022   -2.0569  0.0397  -0.8122  -0.0196\n",
            "===============================================================\n",
            "\n"
          ]
        }
      ],
      "source": [
        "# 수정 후\n",
        "# R-squared: 0.775 (수정 전보다 0.01 감소하지만, 모델의 적합도 및 P > |Z|를 고려했을 때 감안할 수 있음)\n",
        "# AIC: 655, BIC: 730 (수정 전보다 감소하므로 모델의 적합도가 좋음) \n",
        "\n",
        "# P > |Z|, 모든 feature가 유의수준 0.05을 넘지 않음\n",
        "feature = ['V4', 'V8', 'V10', 'V12', 'V14', 'V21', 'V22', 'V27']\n",
        "X = data[feature]\n",
        "X = sm.add_constant(X)\n",
        "model = sm.Logit(y, X)\n",
        "results = model.fit()\n",
        "\n",
        "print(results.summary2())"
      ]
    },
    {
      "cell_type": "code",
      "execution_count": null,
      "metadata": {
        "scrolled": true,
        "id": "XBIG6lR1XQj3",
        "outputId": "1128f15a-07d5-4990-fed2-1c7f57ac9282"
      },
      "outputs": [
        {
          "name": "stdout",
          "output_type": "stream",
          "text": [
            "accuracy_score: 0.998\n",
            "f1_score: 0.846\n",
            "confusion_matrix\n",
            " [[5691    3]\n",
            " [   9   33]]\n"
          ]
        }
      ],
      "source": [
        "# 로지스틱 회귀모델 학습 후 accuracy_score & f1_score & confusion_matrix 계산\n",
        "X_train, X_test, y_train, y_test = train_test_split(X, y, test_size=0.2, random_state=0)\n",
        "\n",
        "model = LogisticRegression()\n",
        "model.fit(X_train, y_train)\n",
        "\n",
        "y_pred = model.predict(X_test)\n",
        "\n",
        "score = metrics.accuracy_score(y_test, y_pred)\n",
        "score_f1 = metrics.f1_score(y_test, y_pred)\n",
        "confusion_matrix = metrics.confusion_matrix(y_test, y_pred)\n",
        "\n",
        "print(\"accuracy_score:\", np.round(score, 3))\n",
        "print(\"f1_score:\", np.round(score_f1, 3))\n",
        "print(\"confusion_matrix\\n\", confusion_matrix)"
      ]
    },
    {
      "cell_type": "markdown",
      "metadata": {
        "id": "REKVDay6XQj3"
      },
      "source": [
        "##### 1. 정확도는 전체 데이터 중, 실제 정답과 동일한 데이터 수의 비율\n",
        "##### 2. F1 score는 Precision 과 Recall을 조화평균한 값\n",
        "##### -> F1_score가 정확도보다 훨씬 낮은 이유는 데이터 불균형으로 인한 문제"
      ]
    },
    {
      "cell_type": "code",
      "execution_count": null,
      "metadata": {
        "id": "LCD1ua6WXQj3",
        "outputId": "f1badf89-fcbf-43c7-a558-cd089fec5638"
      },
      "outputs": [
        {
          "data": {
            "text/plain": [
              "<AxesSubplot:ylabel='Frequency'>"
            ]
          },
          "execution_count": 9,
          "metadata": {},
          "output_type": "execute_result"
        },
        {
          "data": {
            "image/png": "[encoded data removed]",
            "text/plain": [
              "<Figure size 500x300 with 1 Axes>"
            ]
          },
          "metadata": {},
          "output_type": "display_data"
        }
      ],
      "source": [
        "# label 분포가 균등한 지 확인\n",
        "data['Class'].plot(kind='hist', bins=4, color='coral', figsize=(5, 3))"
      ]
    },
    {
      "cell_type": "code",
      "execution_count": null,
      "metadata": {
        "id": "ZXh793Y3XQj4",
        "outputId": "f7de3049-99ae-42ce-9aaa-fbd61e41d605"
      },
      "outputs": [
        {
          "data": {
            "text/plain": [
              "<AxesSubplot:ylabel='Frequency'>"
            ]
          },
          "execution_count": 10,
          "metadata": {},
          "output_type": "execute_result"
        },
        {
          "data": {
            "image/png": "[encoded data removed]",
            "text/plain": [
              "<Figure size 500x300 with 1 Axes>"
            ]
          },
          "metadata": {},
          "output_type": "display_data"
        }
      ],
      "source": [
        "# 데이터가 불균등하여 정확도 의존성이 강해지므로 Class 0에서 Class 1의 수 만큼 랜덤하게 선택 \n",
        "import random\n",
        "\n",
        "class_0 = data.index[data['Class'] == 0].tolist()\n",
        "class_1 = data.index[data['Class'] == 1].tolist()\n",
        "\n",
        "sample_0 = random.sample(class_0, len(class_1))\n",
        "new_data = data.loc[sample_0 + class_1]\n",
        "\n",
        "new_data['Class'].plot(kind='hist', bins=4, color='coral', figsize=(5, 3))"
      ]
    },
    {
      "cell_type": "code",
      "execution_count": null,
      "metadata": {
        "id": "fYyhpi1QXQj4",
        "outputId": "cf02b7ab-4ed5-454a-ae15-8cc490812f38"
      },
      "outputs": [
        {
          "name": "stdout",
          "output_type": "stream",
          "text": [
            "(492, 28)\n",
            "(492, 1)\n"
          ]
        }
      ],
      "source": [
        "# 데이터 균형을 맞춘 데이터 셋 생성\n",
        "new_X = new_data.drop(['Class'], axis=1)\n",
        "new_y = new_data[['Class']]\n",
        "\n",
        "print(new_X.shape)\n",
        "print(new_y.shape)"
      ]
    },
    {
      "cell_type": "code",
      "execution_count": null,
      "metadata": {
        "id": "4OQEk9j9XQj5",
        "outputId": "d8abc331-87e3-4472-b819-adec21a075b0"
      },
      "outputs": [
        {
          "name": "stdout",
          "output_type": "stream",
          "text": [
            "accuracy_score: 0.919\n",
            "f1_score: 0.92\n",
            "confusion_matrix\n",
            " [[45  3]\n",
            " [ 5 46]]\n"
          ]
        }
      ],
      "source": [
        "# 로지스틱 회귀모델 학습 후 accuracy_score & f1_score & confusion_matrix 계산\n",
        "X_train, X_test, y_train, y_test = train_test_split(new_X, new_y, test_size=0.2, random_state=0)\n",
        "\n",
        "model = LogisticRegression()\n",
        "model.fit(X_train, y_train)\n",
        "\n",
        "y_pred = model.predict(X_test)\n",
        "\n",
        "score = metrics.accuracy_score(y_test, y_pred)\n",
        "score_f1 = metrics.f1_score(y_test, y_pred)\n",
        "confusion_matrix = metrics.confusion_matrix(y_test, y_pred)\n",
        "\n",
        "print(\"accuracy_score:\", np.round(score, 3))\n",
        "print(\"f1_score:\", np.round(score_f1, 3))\n",
        "print(\"confusion_matrix\\n\", confusion_matrix)"
      ]
    }
  ],
  "metadata": {
    "colab": {
      "provenance": [],
      "include_colab_link": true
    },
    "kernelspec": {
      "display_name": "Python 3 (ipykernel)",
      "language": "python",
      "name": "python3"
    },
    "language_info": {
      "codemirror_mode": {
        "name": "ipython",
        "version": 3
      },
      "file_extension": ".py",
      "mimetype": "text/x-python",
      "name": "python",
      "nbconvert_exporter": "python",
      "pygments_lexer": "ipython3",
      "version": "3.9.13"
    }
  },
  "nbformat": 4,
  "nbformat_minor": 0
}