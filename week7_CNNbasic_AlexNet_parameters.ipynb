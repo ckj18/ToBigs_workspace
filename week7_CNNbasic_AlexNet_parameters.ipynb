{
  "cells": [
    {
      "cell_type": "markdown",
      "metadata": {
        "id": "view-in-github",
        "colab_type": "text"
      },
      "source": [
        "<a href=\"https://colab.research.google.com/github/ckj18/ToBigs_workspace/blob/main/week7_CNNbasic_AlexNet_parameters.ipynb\" target=\"_parent\"><img src=\"https://colab.research.google.com/assets/colab-badge.svg\" alt=\"Open In Colab\"/></a>"
      ]
    },
    {
      "cell_type": "markdown",
      "metadata": {
        "id": "yclCebBQFn2I"
      },
      "source": [
        "# CNNbasic Assignment#1\n",
        "\n",
        "\n",
        "마크다운과 코드 속 `???` 를 채워주시면 됩니다!-!\n",
        "\n",
        "\n",
        "# AlexNet\n",
        "\n",
        "모델 구조 사진과 논문 사이트입니다.\n",
        "\n",
        "- paper: http://www.cs.toronto.edu/~fritz/absps/imagenet.pdf\n",
        "\n",
        "- dataset: http://image-net.org/challenges/LSVRC/2012/index#task\n",
        "\n",
        "- Model architecture\n",
        "\n",
        "![image.architecture1](attachment:image.png)\n",
        "\n",
        "![model_architecture2](https://t1.daumcdn.net/cfile/tistory/99FEB93C5C80B5192E)\n",
        "\n",
        "The second convolutional layer takes as input the (response-normalized\n",
        "and pooled) output of the first convolutional layer and filters it with 256 kernels of size 5 × 5 × 48.\n",
        "The third, fourth, and fifth convolutional layers are connected to one another without any intervening\n",
        "pooling or normalization layers. The third convolutional layer has 384 kernels of size 3 × 3 ×\n",
        "256 connected to the (normalized, pooled) outputs of the second convolutional layer. The fourth\n",
        "convolutional layer has 384 kernels of size 3 × 3 × 192 , and the fifth convolutional layer has 256\n",
        "kernels of size 3 × 3 × 192. The fully-connected layers have 4096 neurons each.\n",
        "\n",
        "\n",
        "### Naive Version\n",
        "CONV_1 - POOL_1 - CONV_2 - POOL_2 - CONV_3 - CONV_4 - CONV_5 - POOL_3 - FC1 - FC2 - FC3 (->SOFTMAX)\n",
        "\n",
        "### detailed\n",
        "CONV_1(ReLU) - POOL_1 - CONV_2(ReLU) - POOL_2 - CONV_3(ReLU) - CONV_4(ReLU) - CONV_5(ReLU) - POOL_3 -(Flatten) FC1(ReLU) - FC2(ReLU) - FC3(->SOFTMAX)"
      ]
    },
    {
      "cell_type": "markdown",
      "metadata": {
        "id": "exDZxL9QFn2L"
      },
      "source": [
        "## Layer 1 is a Convolution Layer_1\n",
        "\n",
        "- **Input Image size**     224 X 224 X 3\n",
        "\n",
        "- **Number of filters**     96 \n",
        "\n",
        "- **Filter size**     11 X 11\n",
        "\n",
        "- **Stride**     4\n",
        "\n",
        "- **Layer 1 Output**     55 X 55  X 96"
      ]
    },
    {
      "cell_type": "code",
      "execution_count": null,
      "metadata": {
        "id": "x4wlv9Ij8baB"
      },
      "outputs": [],
      "source": [
        "def params(filter_size, input_size, output_size):\n",
        "    return (filter_size * filter_size * input_size + 1) * output_size"
      ]
    },
    {
      "cell_type": "code",
      "execution_count": null,
      "metadata": {
        "id": "vjSSimUm8baD",
        "outputId": "68ad589d-d614-479f-c011-bee9080aa8a5"
      },
      "outputs": [
        {
          "data": {
            "text/plain": [
              "34944"
            ]
          },
          "execution_count": 24,
          "metadata": {},
          "output_type": "execute_result"
        }
      ],
      "source": [
        "## TODO ##\n",
        "\n",
        "######################################################\n",
        "#  Calculate the number of parameters in this layer  #\n",
        "kernel = 11\n",
        "in_channel = 3\n",
        "out_channel = 96\n",
        "\n",
        "######################################################\n",
        "\n",
        "Conv_1 = params(kernel, in_channel, out_channel)\n",
        "Conv_1\n",
        "# '''Don't forget to include Bias'''"
      ]
    },
    {
      "cell_type": "markdown",
      "metadata": {
        "id": "XvlIbO-uFn2V"
      },
      "source": [
        "## Layer 2 is a Max Pooling_1 Followed by Convolution_1\n",
        "\n",
        "- **Input**     55 X 55 X 96\n",
        "\n",
        "- **Max pooling**     1  \n",
        "\n",
        "- **Pooling size** (overlapping)      3 X 3\n",
        "\n",
        "    * overlapping 중첩되어서 지나감\n",
        "\n",
        "- **Stride**     2\n",
        "\n",
        "- **Layer 2 Output**     27 X 27 X 96\n",
        "    \n",
        "    * 차원은 변함 없음"
      ]
    },
    {
      "cell_type": "code",
      "execution_count": null,
      "metadata": {
        "id": "9ryBY53J8baE",
        "outputId": "630d7ffd-d9e9-4fe8-d17f-a5e2b21d9129"
      },
      "outputs": [
        {
          "data": {
            "text/plain": [
              "0"
            ]
          },
          "execution_count": 25,
          "metadata": {},
          "output_type": "execute_result"
        }
      ],
      "source": [
        "## TODO \n",
        "\n",
        "######################################################\n",
        "#  Calculate the number of parameters in this layer  #\n",
        "# pooling은 hyperparameter이므로 parameter 개수 = 0\n",
        "######################################################\n",
        "\n",
        "Max_pool_1 = 0\n",
        "Max_pool_1"
      ]
    },
    {
      "cell_type": "markdown",
      "metadata": {
        "id": "r70OGeViFn2Z"
      },
      "source": [
        "## Layer 3 is a Convolution Layer_2\n",
        "\n",
        "- **Input**     27 X 27 X 96\n",
        "\n",
        "- **Number of filters**     256\n",
        "\n",
        "- **Filter size**     5 X 5\n",
        "\n",
        "- **Stride**     1\n",
        "\n",
        "- **padding**     2\n",
        "\n",
        "- **Layer 3 Output**     27 X 27 X 256"
      ]
    },
    {
      "cell_type": "code",
      "execution_count": null,
      "metadata": {
        "id": "7SGN4haU8baF",
        "outputId": "5b6e39f1-b84a-42f2-a4bb-43504d8842f1"
      },
      "outputs": [
        {
          "data": {
            "text/plain": [
              "614656"
            ]
          },
          "execution_count": 26,
          "metadata": {},
          "output_type": "execute_result"
        }
      ],
      "source": [
        "## TODO \n",
        "\n",
        "######################################################\n",
        "#  Calculate the number of parameters in this layer  #\n",
        "kernel = 5\n",
        "in_channel = 96\n",
        "out_channel = 256\n",
        "######################################################\n",
        "\n",
        "Conv_2 = params(kernel, in_channel, out_channel)\n",
        "Conv_2"
      ]
    },
    {
      "cell_type": "markdown",
      "metadata": {
        "id": "DQZhwY4eFn2e"
      },
      "source": [
        "## Layer 4 is a Max Pooling_2 Followed by Convolution_2\n",
        "\n",
        "- **Input**     27 X 27 X 256\n",
        "\n",
        "- **Max pooling**     2 \n",
        "\n",
        "- **Pooling size**(overlapping)     3 X 3\n",
        "\n",
        "- **Stride**     2\n",
        "\n",
        "- **Layer 4 Output**     13 X 13 X 256"
      ]
    },
    {
      "cell_type": "code",
      "execution_count": null,
      "metadata": {
        "id": "s3aUKPU48baG",
        "outputId": "a3b33814-0c3a-4b16-fa23-5c02b9c532b6"
      },
      "outputs": [
        {
          "data": {
            "text/plain": [
              "0"
            ]
          },
          "execution_count": 27,
          "metadata": {},
          "output_type": "execute_result"
        }
      ],
      "source": [
        "## TODO \n",
        "\n",
        "######################################################\n",
        "#  Calculate the number of parameters in this layer  #\n",
        "# pooling은 hyperparameter이므로 parameter 개수 = 0\n",
        "######################################################\n",
        "\n",
        "Max_pool_2 = 0\n",
        "Max_pool_2"
      ]
    },
    {
      "cell_type": "markdown",
      "metadata": {
        "id": "xPm4PRFAFn2i"
      },
      "source": [
        "## Layer 5 is a Convolution Layer_3\n",
        "\n",
        "- **Input**     13 X 13 X 256\n",
        "\n",
        "- **Number of filters**     384\n",
        "\n",
        "- **Filter size**     3 X 3\n",
        "\n",
        "- **Stride**     1\n",
        "\n",
        "- **padding**     1\n",
        "\n",
        "- **Layer 5 Output**     13 X 13 X 384\n"
      ]
    },
    {
      "cell_type": "code",
      "execution_count": null,
      "metadata": {
        "id": "LL3PeLRA8baH",
        "outputId": "5cc90dfe-2feb-4e56-8355-fcd8b60f7bc8"
      },
      "outputs": [
        {
          "data": {
            "text/plain": [
              "885120"
            ]
          },
          "execution_count": 28,
          "metadata": {},
          "output_type": "execute_result"
        }
      ],
      "source": [
        "## TODO \n",
        "\n",
        "######################################################\n",
        "#  Calculate the number of parameters in this layer  #\n",
        "kernel = 3\n",
        "in_channel = 256\n",
        "out_channel = 384\n",
        "######################################################\n",
        "\n",
        "Conv_3 = params(kernel, in_channel, out_channel)\n",
        "Conv_3"
      ]
    },
    {
      "cell_type": "markdown",
      "metadata": {
        "id": "Yv57b2vxFn2o"
      },
      "source": [
        "## Layer 6 is  a Convolution Layer_4\n",
        "\n",
        "- **Input**     13 X 13 X 384\n",
        "\n",
        "- **Number of filters**     384\n",
        "\n",
        "- **Filter size**     3\n",
        "\n",
        "- **Stride**     1\n",
        "\n",
        "- **padding**     1\n",
        "\n",
        "- **Layer 6 Output**     13 X 13 X 384"
      ]
    },
    {
      "cell_type": "code",
      "execution_count": null,
      "metadata": {
        "id": "SOFedF468baH",
        "outputId": "b51000f6-9fb0-4efc-a140-570ec377ed88"
      },
      "outputs": [
        {
          "data": {
            "text/plain": [
              "1327488"
            ]
          },
          "execution_count": 29,
          "metadata": {},
          "output_type": "execute_result"
        }
      ],
      "source": [
        "## TODO \n",
        "\n",
        "######################################################\n",
        "#  Calculate the number of parameters in this layer  #\n",
        "kernel = 3\n",
        "in_channel = 384\n",
        "out_channel = 384\n",
        "######################################################\n",
        "\n",
        "Conv_4 = params(kernel, in_channel, out_channel)\n",
        "Conv_4"
      ]
    },
    {
      "cell_type": "markdown",
      "metadata": {
        "id": "NiQL84J_Fn2s"
      },
      "source": [
        "## Layer 7 is a Convolution Layer_5\n",
        "\n",
        "- **Input**     13 X 13 X 384\n",
        "\n",
        "- **Number of filters**     256\n",
        "\n",
        "- **Filter size**     3\n",
        "\n",
        "- **Stride**     1\n",
        "\n",
        "- **padding**     1\n",
        "\n",
        "- **Layer 7 Output**     13 X 13 X 256"
      ]
    },
    {
      "cell_type": "code",
      "execution_count": null,
      "metadata": {
        "id": "P2HOyaqn8baI",
        "outputId": "b1a56b4e-7d95-4bce-bf8a-df70decfb2da"
      },
      "outputs": [
        {
          "data": {
            "text/plain": [
              "884992"
            ]
          },
          "execution_count": 35,
          "metadata": {},
          "output_type": "execute_result"
        }
      ],
      "source": [
        "## TODO \n",
        "\n",
        "######################################################\n",
        "#  Calculate the number of parameters in this layer  #\n",
        "kernel = 3\n",
        "in_channel = 384\n",
        "out_channel = 256\n",
        "######################################################\n",
        "\n",
        "Conv_5 = params(kernel, in_channel, out_channel)\n",
        "Conv_5"
      ]
    },
    {
      "cell_type": "markdown",
      "metadata": {
        "id": "WSTe-0IxFn2w"
      },
      "source": [
        "## Layer 8 is a Max Pooling_3 Followed by Convolution_5\n",
        "\n",
        "- **Input**     13 X 13 X 256\n",
        "\n",
        "- **Max pooling**     3  \n",
        "\n",
        "- **Pooling size**(overlapping)     3 X 3\n",
        "\n",
        "- **Stride**     2\n",
        "\n",
        "- **Layer 8 Output**     6 X 6 X 256"
      ]
    },
    {
      "cell_type": "code",
      "execution_count": null,
      "metadata": {
        "id": "YzBgoimv8baI",
        "outputId": "646409c4-b48f-4da6-cae0-b06b57b78d8f"
      },
      "outputs": [
        {
          "data": {
            "text/plain": [
              "0"
            ]
          },
          "execution_count": 31,
          "metadata": {},
          "output_type": "execute_result"
        }
      ],
      "source": [
        "## TODO \n",
        "\n",
        "######################################################\n",
        "#  Calculate the number of parameters in this layer  #\n",
        "# pooling은 hyperparameter이므로 parameter 개수 = 0\n",
        "######################################################\n",
        "\n",
        "Max_pool_3 = 0\n",
        "Max_pool_3"
      ]
    },
    {
      "cell_type": "markdown",
      "metadata": {
        "id": "798N3vBYFn21"
      },
      "source": [
        "## Layer 9 is a Fully_Connected layer_1\n",
        "\n",
        "- **input**     6 X 6 X 256\n",
        "\n",
        "- **flatten**     `???`\n",
        "\n",
        "- **output size**     4096 X 1\n",
        "\n",
        "- **N** Number of input data      4096"
      ]
    },
    {
      "cell_type": "code",
      "execution_count": null,
      "metadata": {
        "id": "139bY3h98baJ",
        "outputId": "a00ce776-62bb-4040-fb36-cfd847d7f0f6"
      },
      "outputs": [
        {
          "data": {
            "text/plain": [
              "37752832"
            ]
          },
          "execution_count": 32,
          "metadata": {},
          "output_type": "execute_result"
        }
      ],
      "source": [
        "## TODO \n",
        "\n",
        "######################################################\n",
        "#  Calculate the number of parameters in this layer  #\n",
        "output_size = 6\n",
        "in_channel = 256\n",
        "out_channel = 4096\n",
        "######################################################\n",
        "\n",
        "FC1 = params(output_size, in_channel, out_channel)\n",
        "FC1"
      ]
    },
    {
      "cell_type": "markdown",
      "metadata": {
        "id": "kIfvpHPTFn25"
      },
      "source": [
        "## Layer 10 is a Fully_Connected layer_2\n",
        "\n",
        "- **input**     4096 X 1\n",
        "\n",
        "- **output size**     4096 X 1\n",
        "\n",
        "- **N** Number of input data =      4096"
      ]
    },
    {
      "cell_type": "code",
      "execution_count": null,
      "metadata": {
        "id": "4Mhtpr7v8baJ",
        "outputId": "7c8b3eb0-0bf9-4296-e93e-073d522a6529"
      },
      "outputs": [
        {
          "data": {
            "text/plain": [
              "16781312"
            ]
          },
          "execution_count": 33,
          "metadata": {},
          "output_type": "execute_result"
        }
      ],
      "source": [
        "## TODO \n",
        "\n",
        "######################################################\n",
        "#  Calculate the number of parameters in this layer  #\n",
        "output_size = 1\n",
        "in_channel = 4096\n",
        "out_channel = 4096\n",
        "######################################################\n",
        "\n",
        "FC2 = params(output_size, in_channel, out_channel)\n",
        "FC2"
      ]
    },
    {
      "cell_type": "markdown",
      "metadata": {
        "id": "N8TaZQTBFn29"
      },
      "source": [
        "## Layer 11 is a Fully_Connected layer_3\n",
        "\n",
        "- **input**     4096 X 1\n",
        "\n",
        "- **output size**     1000 X 1\n",
        "\n",
        "- **N** Number of input data =      4096\n",
        "\n",
        "- **Num_classes** Number of labels =      1000"
      ]
    },
    {
      "cell_type": "code",
      "execution_count": null,
      "metadata": {
        "id": "udR4fCYQ8baK",
        "outputId": "5c9a0607-1a4d-4641-dafe-a72f8be4e65d"
      },
      "outputs": [
        {
          "data": {
            "text/plain": [
              "4097000"
            ]
          },
          "execution_count": 34,
          "metadata": {},
          "output_type": "execute_result"
        }
      ],
      "source": [
        "## TODO \n",
        "\n",
        "######################################################\n",
        "#  Calculate the number of parameters in this layer  #\n",
        "output_size = 1\n",
        "in_channel = 4096\n",
        "out_channel = 1000\n",
        "######################################################\n",
        "\n",
        "FC3 = params(output_size, in_channel, out_channel)\n",
        "FC3"
      ]
    },
    {
      "cell_type": "code",
      "execution_count": null,
      "metadata": {
        "id": "FMliOG9c8baK"
      },
      "outputs": [],
      "source": []
    }
  ],
  "metadata": {
    "colab": {
      "provenance": [],
      "include_colab_link": true
    },
    "kernelspec": {
      "display_name": "Python 3 (ipykernel)",
      "language": "python",
      "name": "python3"
    },
    "language_info": {
      "codemirror_mode": {
        "name": "ipython",
        "version": 3
      },
      "file_extension": ".py",
      "mimetype": "text/x-python",
      "name": "python",
      "nbconvert_exporter": "python",
      "pygments_lexer": "ipython3",
      "version": "3.9.13"
    }
  },
  "nbformat": 4,
  "nbformat_minor": 0
}